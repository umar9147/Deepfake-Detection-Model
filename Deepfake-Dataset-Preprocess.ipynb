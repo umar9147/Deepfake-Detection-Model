{
 "cells": [
  {
   "cell_type": "code",
   "execution_count": 1,
   "id": "affcb9d3-ff4f-4b99-b87b-3fbe8612752e",
   "metadata": {},
   "outputs": [],
   "source": [
    "import tensorflow as tf\n",
    "import os\n",
    "import random\n",
    "import cv2\n",
    "import numpy as np"
   ]
  },
  {
   "cell_type": "code",
   "execution_count": 2,
   "id": "8779d3a0-e655-4d3b-bfc5-a9bdfe19d068",
   "metadata": {},
   "outputs": [],
   "source": [
    "# Base folder paths\n",
    "base_folder = r\"D:\\Dataset\\Deepfake Dataset\\Deepfake_Large-dataset\\Train\"\n",
    "real_folder = os.path.join(base_folder, \"Real\")\n",
    "fake_folder = os.path.join(base_folder, \"Fake\")"
   ]
  },
  {
   "cell_type": "code",
   "execution_count": 3,
   "id": "4bd7ae94-6463-421b-8b40-e91712bdbea3",
   "metadata": {},
   "outputs": [
    {
     "name": "stdin",
     "output_type": "stream",
     "text": [
      "Enter the number of images to load from each folder:  2000\n"
     ]
    }
   ],
   "source": [
    "# Ask user for the number of images\n",
    "num_images = int(input(\"Enter the number of images to load from each folder: \"))\n",
    "\n",
    "# Initialize lists to hold data and labels\n",
    "data = []\n",
    "label = []"
   ]
  },
  {
   "cell_type": "code",
   "execution_count": 4,
   "id": "6c008ce9-c5ad-4381-969d-bea012468f60",
   "metadata": {},
   "outputs": [],
   "source": [
    "# Function to load random images\n",
    "def load_random_images(folder, label_value, num_images):\n",
    "    images = os.listdir(folder)\n",
    "    if len(images) < num_images:\n",
    "        print(f\"Warning: Folder '{folder}' contains fewer images than requested ({len(images)} available).\")\n",
    "    selected_images = random.sample(images, min(num_images, len(images)))\n",
    "    for img_name in selected_images:\n",
    "        img_path = os.path.join(folder, img_name)\n",
    "        img = cv2.imread(img_path)\n",
    "        if img is not None:\n",
    "            img = cv2.resize(img, (256, 256))  # Resize image\n",
    "            data.append(img)\n",
    "            label.append(label_value)"
   ]
  },
  {
   "cell_type": "code",
   "execution_count": 5,
   "id": "72bb6dfc-8620-409a-b494-569363b4405d",
   "metadata": {},
   "outputs": [
    {
     "name": "stdout",
     "output_type": "stream",
     "text": [
      "Loading Real images...\n",
      "Loading Fake images...\n",
      "Loaded 4000 images with labels.\n"
     ]
    }
   ],
   "source": [
    "# Load images from both folders\n",
    "print(\"Loading Real images...\")\n",
    "load_random_images(real_folder, 1, num_images)\n",
    "\n",
    "print(\"Loading Fake images...\")\n",
    "load_random_images(fake_folder, 0, num_images)\n",
    "\n",
    "# Convert data and label to numpy arrays\n",
    "data = np.array(data)\n",
    "label = np.array(label)\n",
    "\n",
    "print(f\"Loaded {len(data)} images with labels.\")"
   ]
  },
  {
   "cell_type": "code",
   "execution_count": 6,
   "id": "e037b23f-49e4-49f7-98a3-1f2a4ac6bed9",
   "metadata": {},
   "outputs": [],
   "source": [
    "# Convert data and labels to TensorFlow tensors\n",
    "data = tf.convert_to_tensor(data, dtype=tf.float32)\n",
    "label = tf.convert_to_tensor(label, dtype=tf.float32)"
   ]
  },
  {
   "cell_type": "code",
   "execution_count": 7,
   "id": "2ecb81f3-274c-4c4a-8242-d81cd2aee32c",
   "metadata": {},
   "outputs": [
    {
     "name": "stdout",
     "output_type": "stream",
     "text": [
      "Data tensor shape: (4000, 256, 256, 3)\n",
      "Label tensor shape: (4000,)\n"
     ]
    }
   ],
   "source": [
    "print(\"Data tensor shape:\", data.shape)\n",
    "print(\"Label tensor shape:\", label.shape)"
   ]
  },
  {
   "cell_type": "code",
   "execution_count": 8,
   "id": "cf1ba5cd-77be-4fb0-84fb-25b385fb82cd",
   "metadata": {},
   "outputs": [
    {
     "name": "stdout",
     "output_type": "stream",
     "text": [
      "Data tensor normalized. Min value: 0.0\n",
      "Max value: 1.0\n"
     ]
    }
   ],
   "source": [
    "# Normalize the data tensor to scale pixel values between 0 and 1\n",
    "data = data / 255.0\n",
    "\n",
    "print(\"Data tensor normalized. Min value:\", tf.reduce_min(data).numpy())\n",
    "print(\"Max value:\", tf.reduce_max(data).numpy())"
   ]
  },
  {
   "cell_type": "code",
   "execution_count": 9,
   "id": "5d484273-2c24-4ca0-ab37-a50c135cda87",
   "metadata": {},
   "outputs": [],
   "source": [
    "# Save the tensors to an NPZ file\n",
    "np.savez('data_label.npz', data=data.numpy(), label=label.numpy())"
   ]
  },
  {
   "cell_type": "code",
   "execution_count": 2,
   "id": "03dadb31-7687-448e-8dee-64182e5e4643",
   "metadata": {},
   "outputs": [],
   "source": [
    "# Load the tensors using memory mapping\n",
    "with np.load('data_label.npz', mmap_mode='r') as data:\n",
    "    loaded_data = data['data']\n",
    "    loaded_label = data['label']"
   ]
  },
  {
   "cell_type": "code",
   "execution_count": 5,
   "id": "74d5ade0-d513-4dca-a371-9ee7c211ff1b",
   "metadata": {},
   "outputs": [],
   "source": [
    "data = tf.constant(loaded_data)\n",
    "label = tf.constant(loaded_label)"
   ]
  },
  {
   "cell_type": "code",
   "execution_count": null,
   "id": "07ef0d06-9e21-4bf5-a098-a3ccc793ba88",
   "metadata": {},
   "outputs": [],
   "source": []
  }
 ],
 "metadata": {
  "kernelspec": {
   "display_name": "Python 3 (ipykernel)",
   "language": "python",
   "name": "python3"
  },
  "language_info": {
   "codemirror_mode": {
    "name": "ipython",
    "version": 3
   },
   "file_extension": ".py",
   "mimetype": "text/x-python",
   "name": "python",
   "nbconvert_exporter": "python",
   "pygments_lexer": "ipython3",
   "version": "3.12.7"
  }
 },
 "nbformat": 4,
 "nbformat_minor": 5
}
